{
 "cells": [
  {
   "cell_type": "code",
   "execution_count": 1,
   "id": "a5d31ede-65a9-4f2d-8789-fa3d5ff111b4",
   "metadata": {},
   "outputs": [],
   "source": [
    "# Importing Pandas\n",
    "import pandas as pd"
   ]
  },
  {
   "cell_type": "code",
   "execution_count": 4,
   "id": "10f42682-2f1a-4ae2-ac16-ddbd83fcbb10",
   "metadata": {},
   "outputs": [],
   "source": [
    "# Loading the dataset\n",
    "landslide_data = pd.read_csv('Global_Landslide_Catalog_Export.csv', low_memory= False)"
   ]
  },
  {
   "cell_type": "code",
   "execution_count": 14,
   "id": "b5e4ac0e-f0a7-4c60-9db0-e6d730acc6e0",
   "metadata": {},
   "outputs": [],
   "source": [
    "# Converting event_date to datetime\n",
    "landslide_data['event_date'] = pd.to_datetime(landslide_data['event_date'], errors='coerce')"
   ]
  },
  {
   "cell_type": "code",
   "execution_count": 15,
   "id": "226bd737-b7dc-4d3e-8d37-fb72f31f2979",
   "metadata": {},
   "outputs": [],
   "source": [
    "# Standardizing text format for country_name\n",
    "landslide_data['country_name'] = landslide_data['country_name'].str.title()"
   ]
  },
  {
   "cell_type": "code",
   "execution_count": 16,
   "id": "de4d4e0e-6915-4cae-986b-1fa76ea20689",
   "metadata": {},
   "outputs": [],
   "source": [
    "# Removing Duplicates\n",
    "landslide_data.drop_duplicates(inplace=True)"
   ]
  },
  {
   "cell_type": "code",
   "execution_count": 18,
   "id": "7ad7222b-31d0-4e40-b2e8-597756183d2a",
   "metadata": {},
   "outputs": [],
   "source": [
    "# Validating longitude and latitude\n",
    "\n",
    "# Converting 'longitude' and 'latitude' columns to numeric (float) type\n",
    "landslide_data['longitude'] = pd.to_numeric(landslide_data['longitude'], errors='coerce')\n",
    "landslide_data['latitude'] = pd.to_numeric(landslide_data['latitude'], errors='coerce')\n",
    "\n",
    "# Removing rows where longitude and latitude are not within the specified ranges\n",
    "landslide_data = landslide_data[(landslide_data['longitude'].between(-180, 180)) &\n",
    "                                (landslide_data['latitude'].between(-90, 90))]"
   ]
  },
  {
   "cell_type": "code",
   "execution_count": 21,
   "id": "721aa6e2-fbf2-4ed6-88ef-d793079ecd31",
   "metadata": {},
   "outputs": [],
   "source": [
    "# Feature Engineering: Extracting the year from event_date\n",
    "landslide_data['event_date'] = pd.to_datetime(landslide_data['event_date'])\n",
    "\n",
    "# Use .dt.year to extract the year and assign it to a new column 'event_year'\n",
    "landslide_data['event_year'] = landslide_data['event_date'].dt.year"
   ]
  },
  {
   "cell_type": "code",
   "execution_count": 22,
   "id": "aa8ce18e-126c-43f4-8ba1-1f28e1dc90d2",
   "metadata": {},
   "outputs": [],
   "source": [
    "# Filling missing values for 'fatality_count' and 'injury_count'\n",
    "landslide_data['fatality_count'].fillna(0, inplace=True)\n",
    "landslide_data['injury_count'].fillna(0, inplace=True)"
   ]
  },
  {
   "cell_type": "code",
   "execution_count": 25,
   "id": "ef7c1e0d-c286-4366-a699-39b277510698",
   "metadata": {},
   "outputs": [],
   "source": [
    "landslide_data.to_csv('cleaned_landslide_data.csv', index=False)"
   ]
  },
  {
   "cell_type": "code",
   "execution_count": 24,
   "id": "1e838caa-d81d-4f69-80cb-f6366b27d17d",
   "metadata": {},
   "outputs": [],
   "source": [
    "# Descriptive Statistics\n",
    "descriptive_stats = landslide_data.describe()"
   ]
  }
 ],
 "metadata": {
  "kernelspec": {
   "display_name": "Python 3 (ipykernel)",
   "language": "python",
   "name": "python3"
  },
  "language_info": {
   "codemirror_mode": {
    "name": "ipython",
    "version": 3
   },
   "file_extension": ".py",
   "mimetype": "text/x-python",
   "name": "python",
   "nbconvert_exporter": "python",
   "pygments_lexer": "ipython3",
   "version": "3.11.3"
  }
 },
 "nbformat": 4,
 "nbformat_minor": 5
}
